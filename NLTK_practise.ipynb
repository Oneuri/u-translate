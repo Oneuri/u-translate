{
  "nbformat": 4,
  "nbformat_minor": 0,
  "metadata": {
    "kernelspec": {
      "display_name": "Python 3",
      "language": "python",
      "name": "python3"
    },
    "colab": {
      "name": "NLTK practise.ipynb",
      "provenance": [],
      "toc_visible": true
    }
  },
  "cells": [
    {
      "cell_type": "code",
      "metadata": {
        "id": "5ZN2u6Ru-xOL",
        "colab_type": "code",
        "colab": {},
        "outputId": "0472048c-c8e9-4d57-ecf0-f3ed7efc5d7a"
      },
      "source": [
        "b = TextBlob(\"I havv goood speling!\")\n",
        "print(b.correct())"
      ],
      "execution_count": null,
      "outputs": [
        {
          "output_type": "stream",
          "text": [
            "I have good spelling!\n"
          ],
          "name": "stdout"
        }
      ]
    },
    {
      "cell_type": "code",
      "metadata": {
        "id": "bzTYYQZ9-xOO",
        "colab_type": "code",
        "colab": {},
        "outputId": "d925cd10-8035-4306-e1ae-f24b872faf16"
      },
      "source": [
        "b = TextBlob(\" my name is ourjit! I am an engineer.\")\n",
        "print(b.correct())"
      ],
      "execution_count": null,
      "outputs": [
        {
          "output_type": "stream",
          "text": [
            " my name is orbit! I am an engineer.\n"
          ],
          "name": "stdout"
        }
      ]
    },
    {
      "cell_type": "code",
      "metadata": {
        "id": "000EIYS--xOH",
        "colab_type": "code",
        "colab": {}
      },
      "source": [
        "from textblob import TextBlob"
      ],
      "execution_count": null,
      "outputs": []
    },
    {
      "cell_type": "code",
      "metadata": {
        "id": "FfdGKsOF-xOR",
        "colab_type": "code",
        "colab": {},
        "outputId": "7db36073-8656-47ef-eba0-1484a3344f2e"
      },
      "source": [
        "french = TextBlob(u\"mon nom est urjit\")\n",
        "french.translate(from_lang=\"fr\", to='en')"
      ],
      "execution_count": null,
      "outputs": [
        {
          "output_type": "execute_result",
          "data": {
            "text/plain": [
              "TextBlob(\"my name is urjit\")"
            ]
          },
          "metadata": {
            "tags": []
          },
          "execution_count": 6
        }
      ]
    },
    {
      "cell_type": "code",
      "metadata": {
        "id": "boXaXA9R-xOT",
        "colab_type": "code",
        "colab": {},
        "outputId": "25fa992c-256d-4693-b3f0-7db75b86f442"
      },
      "source": [
        "b = TextBlob(u\"بسيط هو أفضل من مجمع\")\n",
        "c = b.detect_language()\n",
        "b.translate( to='en')"
      ],
      "execution_count": null,
      "outputs": [
        {
          "output_type": "execute_result",
          "data": {
            "text/plain": [
              "TextBlob(\"Simple is better than complex\")"
            ]
          },
          "metadata": {
            "tags": []
          },
          "execution_count": 7
        }
      ]
    },
    {
      "cell_type": "code",
      "metadata": {
        "id": "HpbX-gR4-xOW",
        "colab_type": "code",
        "colab": {}
      },
      "source": [
        "from textblob import TextBlob\n",
        "b = TextBlob(u\"𝕬 𝕭 𝕮 𝕯 𝕰 𝕱 𝕲 𝕳 𝕴 𝕵 𝕶 𝕷 𝕸 𝕹 𝕺 𝕻 𝕼 𝕽 𝕾 𝕿 𝖀 𝖁 𝖂 𝖃 𝖄 𝖅\")\n",
        "c = b.detect_language()"
      ],
      "execution_count": null,
      "outputs": []
    },
    {
      "cell_type": "code",
      "metadata": {
        "id": "nqHPJU3G-xOY",
        "colab_type": "code",
        "colab": {},
        "outputId": "7ddbbe1c-4341-490a-aa64-876e66974e58"
      },
      "source": [
        "a=10\n",
        "b=10\n",
        "c=a+b\n",
        "print(c)"
      ],
      "execution_count": null,
      "outputs": [
        {
          "output_type": "stream",
          "text": [
            "20\n"
          ],
          "name": "stdout"
        }
      ]
    },
    {
      "cell_type": "code",
      "metadata": {
        "id": "-wkATZ-B-xOb",
        "colab_type": "code",
        "colab": {},
        "outputId": "314ae965-b58a-4a81-dfbd-314c65803fac"
      },
      "source": [
        "b = TextBlob(u\"بسيط هو أفضل من مجمع\")\n",
        "c = b.detect_language()\n",
        "b.translate( to='en')"
      ],
      "execution_count": null,
      "outputs": [
        {
          "output_type": "execute_result",
          "data": {
            "text/plain": [
              "TextBlob(\"Simple is better than complex\")"
            ]
          },
          "metadata": {
            "tags": []
          },
          "execution_count": 10
        }
      ]
    },
    {
      "cell_type": "code",
      "metadata": {
        "id": "w55fvuS3-xOd",
        "colab_type": "code",
        "colab": {},
        "outputId": "bfed0857-ff2d-4e6b-dc16-150fdc06a096"
      },
      "source": [
        "french = TextBlob(u\"I am urjit Tembhurnikar\")\n",
        "french.translate(from_lang=\"en\", to='mr')"
      ],
      "execution_count": null,
      "outputs": [
        {
          "output_type": "execute_result",
          "data": {
            "text/plain": [
              "TextBlob(\"मी उरजित टेंभुर्णीकर आहे\")"
            ]
          },
          "metadata": {
            "tags": []
          },
          "execution_count": 11
        }
      ]
    },
    {
      "cell_type": "code",
      "metadata": {
        "id": "SN1TexRJ-xOg",
        "colab_type": "code",
        "colab": {}
      },
      "source": [
        "from textblob import TextBlob\n"
      ],
      "execution_count": null,
      "outputs": []
    },
    {
      "cell_type": "code",
      "metadata": {
        "id": "p6nKQTpT-xOi",
        "colab_type": "code",
        "colab": {},
        "outputId": "4f4ab970-c177-4f9f-83cc-35c799ea603c"
      },
      "source": [
        "b = TextBlob(u\"मी आहे\")\n",
        "c = b.detect_language()\n",
        "b.translate( to='en')"
      ],
      "execution_count": null,
      "outputs": [
        {
          "output_type": "execute_result",
          "data": {
            "text/plain": [
              "TextBlob(\"I am\")"
            ]
          },
          "metadata": {
            "tags": []
          },
          "execution_count": 13
        }
      ]
    },
    {
      "cell_type": "code",
      "metadata": {
        "id": "s92tgjhQ-xOk",
        "colab_type": "code",
        "colab": {},
        "outputId": "02386129-8cb4-4f18-8d5d-c7acba59e680"
      },
      "source": [
        "o = TextBlob(u\" ભારત મારો દેશ છે\")\n",
        "p = b.detect_language()\n",
        "print('The written text is in ' +p)\n",
        "o.translate( to='en')"
      ],
      "execution_count": null,
      "outputs": [
        {
          "output_type": "stream",
          "text": [
            "The written text is in mr\n"
          ],
          "name": "stdout"
        },
        {
          "output_type": "execute_result",
          "data": {
            "text/plain": [
              "TextBlob(\"India is my country\")"
            ]
          },
          "metadata": {
            "tags": []
          },
          "execution_count": 22
        }
      ]
    },
    {
      "cell_type": "code",
      "metadata": {
        "id": "6lqSiFW0-xOm",
        "colab_type": "code",
        "colab": {},
        "outputId": "048d0173-2ba7-4b52-c87c-320bcb9382d0"
      },
      "source": [
        "import seaborn as sns\n",
        "%matplotlib inline\n",
        "tips = sns.load_dataset('tips')\n",
        "tips.head()"
      ],
      "execution_count": null,
      "outputs": [
        {
          "output_type": "execute_result",
          "data": {
            "text/html": [
              "<div>\n",
              "<style scoped>\n",
              "    .dataframe tbody tr th:only-of-type {\n",
              "        vertical-align: middle;\n",
              "    }\n",
              "\n",
              "    .dataframe tbody tr th {\n",
              "        vertical-align: top;\n",
              "    }\n",
              "\n",
              "    .dataframe thead th {\n",
              "        text-align: right;\n",
              "    }\n",
              "</style>\n",
              "<table border=\"1\" class=\"dataframe\">\n",
              "  <thead>\n",
              "    <tr style=\"text-align: right;\">\n",
              "      <th></th>\n",
              "      <th>total_bill</th>\n",
              "      <th>tip</th>\n",
              "      <th>sex</th>\n",
              "      <th>smoker</th>\n",
              "      <th>day</th>\n",
              "      <th>time</th>\n",
              "      <th>size</th>\n",
              "    </tr>\n",
              "  </thead>\n",
              "  <tbody>\n",
              "    <tr>\n",
              "      <th>0</th>\n",
              "      <td>16.99</td>\n",
              "      <td>1.01</td>\n",
              "      <td>Female</td>\n",
              "      <td>No</td>\n",
              "      <td>Sun</td>\n",
              "      <td>Dinner</td>\n",
              "      <td>2</td>\n",
              "    </tr>\n",
              "    <tr>\n",
              "      <th>1</th>\n",
              "      <td>10.34</td>\n",
              "      <td>1.66</td>\n",
              "      <td>Male</td>\n",
              "      <td>No</td>\n",
              "      <td>Sun</td>\n",
              "      <td>Dinner</td>\n",
              "      <td>3</td>\n",
              "    </tr>\n",
              "    <tr>\n",
              "      <th>2</th>\n",
              "      <td>21.01</td>\n",
              "      <td>3.50</td>\n",
              "      <td>Male</td>\n",
              "      <td>No</td>\n",
              "      <td>Sun</td>\n",
              "      <td>Dinner</td>\n",
              "      <td>3</td>\n",
              "    </tr>\n",
              "    <tr>\n",
              "      <th>3</th>\n",
              "      <td>23.68</td>\n",
              "      <td>3.31</td>\n",
              "      <td>Male</td>\n",
              "      <td>No</td>\n",
              "      <td>Sun</td>\n",
              "      <td>Dinner</td>\n",
              "      <td>2</td>\n",
              "    </tr>\n",
              "    <tr>\n",
              "      <th>4</th>\n",
              "      <td>24.59</td>\n",
              "      <td>3.61</td>\n",
              "      <td>Female</td>\n",
              "      <td>No</td>\n",
              "      <td>Sun</td>\n",
              "      <td>Dinner</td>\n",
              "      <td>4</td>\n",
              "    </tr>\n",
              "  </tbody>\n",
              "</table>\n",
              "</div>"
            ],
            "text/plain": [
              "   total_bill   tip     sex smoker  day    time  size\n",
              "0       16.99  1.01  Female     No  Sun  Dinner     2\n",
              "1       10.34  1.66    Male     No  Sun  Dinner     3\n",
              "2       21.01  3.50    Male     No  Sun  Dinner     3\n",
              "3       23.68  3.31    Male     No  Sun  Dinner     2\n",
              "4       24.59  3.61  Female     No  Sun  Dinner     4"
            ]
          },
          "metadata": {
            "tags": []
          },
          "execution_count": 15
        }
      ]
    },
    {
      "cell_type": "code",
      "metadata": {
        "id": "EiW-OMdV-xOp",
        "colab_type": "code",
        "colab": {},
        "outputId": "fcc3af07-1965-4195-b290-8b6bc753b0fc"
      },
      "source": [
        "sns.lmplot(x='total_bill',y='tip',data=tips,hue='sex')"
      ],
      "execution_count": null,
      "outputs": [
        {
          "output_type": "execute_result",
          "data": {
            "text/plain": [
              "<seaborn.axisgrid.FacetGrid at 0x1cdc1253ba8>"
            ]
          },
          "metadata": {
            "tags": []
          },
          "execution_count": 16
        },
        {
          "output_type": "display_data",
          "data": {
            "image/png": "[encoded data removed]",
            "text/plain": [
              "<Figure size 432.125x360 with 1 Axes>"
            ]
          },
          "metadata": {
            "tags": [],
            "needs_background": "light"
          }
        }
      ]
    },
    {
      "cell_type": "code",
      "metadata": {
        "id": "21GgdhVg-xOr",
        "colab_type": "code",
        "colab": {},
        "outputId": "d76cb056-7eb9-400c-da17-db36ce94c408"
      },
      "source": [
        "from textblob import TextBlob\n",
        "b = TextBlob(u\"بسيط هو أفضل من مجمع.\")\n",
        "c = b.detect_language()\n",
        "b.translate( to='en')\n",
        "print('The written text is in '+c+ ' language.')\n",
        "print()\n",
        "print(b.translate( to='en'))"
      ],
      "execution_count": null,
      "outputs": [
        {
          "output_type": "stream",
          "text": [
            "The written text is in ar language.\n",
            "\n",
            "Simple is better than complex.\n"
          ],
          "name": "stdout"
        }
      ]
    },
    {
      "cell_type": "code",
      "metadata": {
        "id": "hFPesVn4-xOt",
        "colab_type": "code",
        "colab": {}
      },
      "source": [
        ""
      ],
      "execution_count": null,
      "outputs": []
    }
  ]
}